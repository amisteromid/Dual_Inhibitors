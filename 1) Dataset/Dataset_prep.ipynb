{
 "cells": [
  {
   "cell_type": "code",
   "execution_count": 93,
   "id": "60cdfe46",
   "metadata": {},
   "outputs": [],
   "source": [
    "import numpy as np\n",
    "import pandas as pd"
   ]
  },
  {
   "cell_type": "code",
   "execution_count": 94,
   "id": "54571b43",
   "metadata": {},
   "outputs": [],
   "source": [
    "# READ the files\n",
    "f_mord = pd.read_csv(\"FGFR4_desc2.csv\", low_memory=False, index_col=0)\n",
    "i_mord = pd.read_csv(\"IGF1R_desc2.csv\", low_memory=False, index_col=0)\n",
    "f_padel = pd.read_csv(\"FGFR4_descriptor_padelpy.csv\", low_memory=False)\n",
    "i_padel = pd.read_csv(\"IGF1R_descriptor_padelpy.csv\", low_memory=False)\n",
    "# we only need the smile (identifier) and the IC50\n",
    "f_ = pd.read_csv(\"bindingdb_11012022_FGFR4.tsv\", low_memory=False, sep='\\t')[['Ligand SMILES','IC50 (nM)']]\n",
    "i_ = pd.read_csv(\"bindingdb_11012022_IGF1R.tsv\", low_memory=False, sep='\\t')[['Ligand SMILES','IC50 (nM)']]"
   ]
  },
  {
   "cell_type": "code",
   "execution_count": 95,
   "id": "8613681b",
   "metadata": {},
   "outputs": [],
   "source": [
    "# del columns; seems irrelevant\n",
    "f_mord = f_mord.drop(['ABC', 'ABCGG'], axis=1)\n",
    "i_mord = i_mord.drop(['ABC', 'ABCGG'], axis=1)\n",
    "# take smile out of list and string symbols ([''])\n",
    "f_padel['smile'] = f_padel['smile'].apply(lambda x: x[2:-2])\n",
    "i_padel['smile'] = i_padel['smile'].apply(lambda x: x[2:-2])\n",
    "# change the names and remove the duplicated rows\n",
    "f_ = f_.rename(columns={'Ligand SMILES': 'smile', 'IC50 (nM)': 'IC50'}).drop_duplicates(subset=\"smile\")\n",
    "i_ = i_.rename(columns={'Ligand SMILES': 'smile', 'IC50 (nM)': 'IC50'}).drop_duplicates(subset=\"smile\")"
   ]
  },
  {
   "cell_type": "code",
   "execution_count": 96,
   "id": "1bec7cda",
   "metadata": {},
   "outputs": [],
   "source": [
    "#the order of mordred and padel descriptors are the same, so simply concatenate them\n",
    "f_features = pd.concat([f_padel, f_mord], axis=1)\n",
    "i_features = pd.concat([i_padel, i_mord], axis=1)"
   ]
  },
  {
   "cell_type": "code",
   "execution_count": 97,
   "id": "4e4a5471",
   "metadata": {},
   "outputs": [],
   "source": [
    "# add the IC50 column to the features based on the smile which is a common column in both datasets\n",
    "i = i_features.merge(i_[['smile', 'IC50']], on='smile', how='left')\n",
    "f = f_features.merge(f_[['smile', 'IC50']], on='smile', how='left')"
   ]
  },
  {
   "cell_type": "markdown",
   "id": "074329c3",
   "metadata": {},
   "source": [
    "##  clean and preprocess:\n",
    "\n",
    "1. Identify columns with non-numeric data types.\n",
    "2. Attempt to convert non-numeric values to NaN.\n",
    "3. Fill the Nan values with the mean value of the feature for all samples\n",
    "4. Drop columns with over 1% non-numeric values.\n",
    "5. Convert 'IC50' column to float and handle '>' or '<' characters. Then convert to pIC50"
   ]
  },
  {
   "cell_type": "code",
   "execution_count": 98,
   "id": "68c4f3d7",
   "metadata": {
    "scrolled": true
   },
   "outputs": [
    {
     "name": "stdout",
     "output_type": "stream",
     "text": [
      "Not all values in column 'IC50' have the same data type.\n",
      "dataframe i has 397 columns full of not float type values\n"
     ]
    }
   ],
   "source": [
    "columns_to_drop = []  # Initialize a list to store columns to drop\n",
    "# Assuming you have a DataFrame i\n",
    "for column_name in i.columns:\n",
    "    # Check if all values in the column have the same data type\n",
    "    same_data_type = i[column_name].apply(type).nunique() == 1\n",
    "    \n",
    "    if not same_data_type:\n",
    "        print(f\"Not all values in column '{column_name}' have the same data type.\")\n",
    "    else:\n",
    "        column_data_type = i[column_name].apply(type).iloc[0]\n",
    "        if column_data_type not in (float, int) and column_name != 'smile':\n",
    "            #print(f\"Column '{column_name}' has data type: {column_data_type.__name__}\")\n",
    "            \n",
    "            # Initialize a count for non-convertible values\n",
    "            non_convertible_count = 0\n",
    "            \n",
    "            # Attempt to convert each value to float and count non-convertible values\n",
    "            for index, value in enumerate(i[column_name]):\n",
    "                try:\n",
    "                    float_value = float(value)\n",
    "                except (ValueError, TypeError):\n",
    "                    non_convertible_count += 1\n",
    "            \n",
    "            # Print the count and percentage of non-convertible values\n",
    "            total_values = len(i[column_name])\n",
    "            non_convertible_percentage = (non_convertible_count / total_values) * 100\n",
    "            if non_convertible_percentage > 1:\n",
    "                #print(f\"Number of non-convertible values in {column_name}: {non_convertible_count} ({non_convertible_percentage:.2f}%)\")\n",
    "                # Add the column to the list of columns to drop\n",
    "                columns_to_drop.append(column_name)\n",
    "                \n",
    "            # replace non-convertible values with NaN\n",
    "            i[column_name] = pd.to_numeric(i[column_name], errors='coerce')\n",
    "print (\"dataframe i has %d columns full of not float type values\"%(len(columns_to_drop)))\n",
    "i.drop(columns=columns_to_drop, inplace=True)\n",
    "i['IC50'] = i['IC50'].str.replace(\">\", \"\").str.replace(\"<\", \"\").astype(float)"
   ]
  },
  {
   "cell_type": "code",
   "execution_count": 99,
   "id": "e0a87ea3",
   "metadata": {},
   "outputs": [
    {
     "name": "stdout",
     "output_type": "stream",
     "text": [
      "Not all values in column 'IC50' have the same data type.\n",
      "dataframe i has 397 columns full of not float type values\n"
     ]
    }
   ],
   "source": [
    "columns_to_drop = []  # Initialize a list to store columns to drop\n",
    "# Assuming you have a DataFrame f\n",
    "for column_name in f.columns:\n",
    "    # Check if all values in the column have the same data type\n",
    "    same_data_type = f[column_name].apply(type).nunique() == 1\n",
    "    \n",
    "    if not same_data_type:\n",
    "        print(f\"Not all values in column '{column_name}' have the same data type.\")\n",
    "    else:\n",
    "        column_data_type = f[column_name].apply(type).iloc[0]\n",
    "        if column_data_type not in (float, int) and column_name != 'smile':\n",
    "            #print(f\"Column '{column_name}' has data type: {column_data_type.__name__}\")\n",
    "            \n",
    "            # Initialize a count for non-convertible values\n",
    "            non_convertible_count = 0\n",
    "            \n",
    "            # Attempt to convert each value to float and count non-convertible values\n",
    "            for index, value in enumerate(f[column_name]):\n",
    "                try:\n",
    "                    float_value = float(value)\n",
    "                except (ValueError, TypeError):\n",
    "                    non_convertible_count += 1\n",
    "            \n",
    "            # Print the count and percentage of non-convertible values\n",
    "            total_values = len(f[column_name])\n",
    "            non_convertible_percentage = (non_convertible_count / total_values) * 100\n",
    "            if non_convertible_percentage > 1:\n",
    "                #print(f\"Number of non-convertible values in {column_name}: {non_convertible_count} ({non_convertible_percentage:.2f}%)\")\n",
    "                # Add the column to the list of columns to drop\n",
    "                columns_to_drop.append(column_name)\n",
    "                \n",
    "            # replace non-convertible values with NaN\n",
    "            f[column_name] = pd.to_numeric(f[column_name], errors='coerce')\n",
    "print (\"dataframe i has %d columns full of not float type values\"%(len(columns_to_drop)))\n",
    "f.drop(columns=columns_to_drop, inplace=True)\n",
    "f['IC50'] = f['IC50'].str.replace(\">\", \"\").str.replace(\"<\", \"\").astype(float)"
   ]
  },
  {
   "cell_type": "code",
   "execution_count": 100,
   "id": "2e5eb6b8",
   "metadata": {},
   "outputs": [],
   "source": [
    "i['Lipinski'] = i['Lipinski'].astype(int)\n",
    "i['GhoseFilter'] = i['GhoseFilter'].astype(int)\n",
    "f['Lipinski'] = f['Lipinski'].astype(int)\n",
    "f['GhoseFilter'] = f['GhoseFilter'].astype(int)"
   ]
  },
  {
   "cell_type": "code",
   "execution_count": 101,
   "id": "8268cfb9",
   "metadata": {},
   "outputs": [
    {
     "name": "stdout",
     "output_type": "stream",
     "text": [
      "Number of non-numeric columns: 1\n",
      "Number of non-numeric columns: 1\n"
     ]
    }
   ],
   "source": [
    "non_numeric_columns = i.select_dtypes(exclude=['float', 'int'])\n",
    "num_non_numeric_columns = non_numeric_columns.shape[1]\n",
    "print(f\"Number of non-numeric columns: {num_non_numeric_columns}\")\n",
    "non_numeric_columns = f.select_dtypes(exclude=['float', 'int'])\n",
    "num_non_numeric_columns = non_numeric_columns.shape[1]\n",
    "print(f\"Number of non-numeric columns: {num_non_numeric_columns}\")\n"
   ]
  },
  {
   "cell_type": "code",
   "execution_count": 102,
   "id": "fbb4ba44",
   "metadata": {},
   "outputs": [],
   "source": [
    "# Calculate the mean of each numeric column\n",
    "column_means = i.mean(numeric_only=True)\n",
    "# Fill NaN values with the mean of each column\n",
    "i.fillna(column_means, inplace=True)\n",
    "\n",
    "# Calculate the mean of each column\n",
    "column_means = f.mean(numeric_only=True)\n",
    "# Fill NaN values with the mean of each column\n",
    "f.fillna(column_means, inplace=True)"
   ]
  },
  {
   "cell_type": "code",
   "execution_count": 103,
   "id": "24fad226",
   "metadata": {},
   "outputs": [],
   "source": [
    "# Create a new column 'pIC50' by applying the negative logarithm\n",
    "i['pIC50'] = -np.log10(i['IC50'])\n",
    "i.drop('IC50', axis=1, inplace=True)\n",
    "\n",
    "f['pIC50'] = -np.log10(f['IC50'])\n",
    "f.drop('IC50', axis=1, inplace=True)"
   ]
  },
  {
   "cell_type": "code",
   "execution_count": 104,
   "id": "effe0c2a",
   "metadata": {},
   "outputs": [],
   "source": [
    "f.to_csv('final_FGFR4.csv')\n",
    "i.to_csv('final_IGF1R.csv')"
   ]
  }
 ],
 "metadata": {
  "kernelspec": {
   "display_name": "Python 3 (ipykernel)",
   "language": "python",
   "name": "python3"
  },
  "language_info": {
   "codemirror_mode": {
    "name": "ipython",
    "version": 3
   },
   "file_extension": ".py",
   "mimetype": "text/x-python",
   "name": "python",
   "nbconvert_exporter": "python",
   "pygments_lexer": "ipython3",
   "version": "3.9.7"
  }
 },
 "nbformat": 4,
 "nbformat_minor": 5
}
